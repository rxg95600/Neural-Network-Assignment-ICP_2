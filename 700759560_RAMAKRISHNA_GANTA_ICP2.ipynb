{
  "nbformat": 4,
  "nbformat_minor": 0,
  "metadata": {
    "colab": {
      "provenance": [],
      "authorship_tag": "ABX9TyM7tIMKdlKSzGbkC8+APMY2",
      "include_colab_link": true
    },
    "kernelspec": {
      "name": "python3",
      "display_name": "Python 3"
    },
    "language_info": {
      "name": "python"
    }
  },
  "cells": [
    {
      "cell_type": "markdown",
      "metadata": {
        "id": "view-in-github",
        "colab_type": "text"
      },
      "source": [
        "<a href=\"https://colab.research.google.com/github/rxg95600/Neural-Network-Assignment-ICP_2/blob/main/700759560_RAMAKRISHNA_GANTA_ICP2.ipynb\" target=\"_parent\"><img src=\"https://colab.research.google.com/assets/colab-badge.svg\" alt=\"Open In Colab\"/></a>"
      ]
    },
    {
      "cell_type": "markdown",
      "source": [
        "**QUESTION-1**"
      ],
      "metadata": {
        "id": "lq-08q2_ssG6"
      }
    },
    {
      "cell_type": "markdown",
      "source": [
        "---\n"
      ],
      "metadata": {
        "id": "0wXXL7kUsp8X"
      }
    },
    {
      "cell_type": "code",
      "execution_count": 14,
      "metadata": {
        "colab": {
          "base_uri": "https://localhost:8080/"
        },
        "id": "Vasu2gMKob5h",
        "outputId": "682b3150-0c3b-4cec-85d6-749b37c018b6"
      },
      "outputs": [
        {
          "output_type": "stream",
          "name": "stdout",
          "text": [
            "The count of an employee is: 4\n",
            "Average salary of an employee is: 148750.0\n"
          ]
        }
      ],
      "source": [
        "# employee class code in Python\n",
        "# class definition\n",
        "\n",
        "class Employee:\n",
        "\n",
        "    # data member to count the number of Employees\n",
        "    count_of_employees = 0\n",
        "    __name=\"\"\n",
        "    __family=\"\"\n",
        "    __salary=0\n",
        "    __department=\"\"\n",
        "\n",
        "    # function to set data\n",
        "    # constructor to intiliaze the name, family, salary, department\n",
        "    def __init__(self, name, family, salary, department):\n",
        "        self.__name = name\n",
        "        self.__family = family\n",
        "        self.salary = salary\n",
        "        self.__department = department\n",
        "        Employee.count_of_employees += 1 #to count number of employees\n",
        "\n",
        "    #function to calculate the average salary of an employee\n",
        "    def average_salary(employees):\n",
        "        total = 0\n",
        "        for employee in employees:\n",
        "            total += employee.salary\n",
        "        return total / Employee.count_of_employees\n",
        "\n",
        "    #displaying the details of an employee\n",
        "    def showData(self):\n",
        "        print(\"The count of an employee is:\",Employee.count_of_employees)\n",
        "        #print(\"The Name of an employee is\\t:\", self.__name)\n",
        "        #print(\"The Family of an employee is\\t:\", self.__family)\n",
        "        #print(\"The Department of an employee is\\t:\", self.__department)\n",
        "        #print(\"The Salary of an employee is\\t:\", self.__salary)\n",
        "\n",
        "#A subclass which is inherited the properties of the class\n",
        "class FulltimeEmployee(Employee):\n",
        "   #intiliazation\n",
        "    def __init__(self, name, family, salary, department):\n",
        "        super().__init__(name, family, salary, department)\n",
        "\n",
        "\n",
        "#main class\n",
        "def main():\n",
        "    employees = []\n",
        "    one = FulltimeEmployee(\"RAMA KRISHNA\", \"fm-pothuru\", 120000, \"Enginner\")  #Declaration\n",
        "    employees.append(one)  #appending\n",
        "    two = FulltimeEmployee(\"RAM\", \"fm-kamtam\", 180000, \"Developer\")\n",
        "    employees.append(two)\n",
        "    three = Employee(\"KRISHNA\", \"fm-dhawswarala\", 160000, \"Manager\")\n",
        "    employees.append(three)\n",
        "    four = Employee(\"RK\", \"Fm-siddavtam\", 135000, \"fashion\")\n",
        "    employees.append(four)\n",
        "    Employee.showData(employees)  #showing the data of an employee\n",
        "    print(\"Average salary of an employee is:\", FulltimeEmployee.average_salary(employees)) #Average salary of an employee\n",
        "\n",
        "\n",
        "if __name__ == \"__main__\":\n",
        "    main()"
      ]
    },
    {
      "cell_type": "markdown",
      "source": [
        "QUESTION-**2**"
      ],
      "metadata": {
        "id": "Zw7kNNVGsn6b"
      }
    },
    {
      "cell_type": "markdown",
      "source": [
        "---\n",
        "\n"
      ],
      "metadata": {
        "id": "LVXRg2mrtItZ"
      }
    },
    {
      "cell_type": "code",
      "source": [
        "import numpy as np\n",
        "\n",
        "#function to replace the maximum value in an array of axis x and y based on the condition\n",
        "def replace_maxmium(array, replace_value, axis):\n",
        "    result = np.where(array == np.max(\n",
        "        array, axis=1).reshape(-1, 1), 0 * array, array)\n",
        "    print(result)\n",
        "\n",
        "\n",
        "def main():\n",
        "\n",
        " #creating a random vector of size 20 which is having in the range of 1-20\n",
        "    rand20 = np.random.random_sample(20) * 20 + 1\n",
        "    print(rand20)\n",
        "\n",
        "    #reshaping the array to 4 by 5 in random20\n",
        "    rand20_4by5 = rand20.reshape((4, 5))\n",
        "    print(rand20_4by5)\n",
        "\n",
        "    replace_maxmium(rand20_4by5, 0, 1)#replacing the max value in each row by zero\n",
        "\n",
        "\n",
        "if __name__ == \"__main__\":\n",
        "    main()"
      ],
      "metadata": {
        "colab": {
          "base_uri": "https://localhost:8080/"
        },
        "id": "japXdl8ttSPO",
        "outputId": "3f688329-7754-477f-f25d-fc8c10669e79"
      },
      "execution_count": 15,
      "outputs": [
        {
          "output_type": "stream",
          "name": "stdout",
          "text": [
            "[18.59917886 17.93776136 20.29872473 10.03574385 17.74173013  1.26614772\n",
            "  2.45905661  6.01446272  6.36379688  7.33274868  8.06460007 11.02099009\n",
            " 14.18561718  9.05107114 16.24876697  2.32607611 16.22672296 15.75924705\n",
            " 18.41589837 14.64476458]\n",
            "[[18.59917886 17.93776136 20.29872473 10.03574385 17.74173013]\n",
            " [ 1.26614772  2.45905661  6.01446272  6.36379688  7.33274868]\n",
            " [ 8.06460007 11.02099009 14.18561718  9.05107114 16.24876697]\n",
            " [ 2.32607611 16.22672296 15.75924705 18.41589837 14.64476458]]\n",
            "[[18.59917886 17.93776136  0.         10.03574385 17.74173013]\n",
            " [ 1.26614772  2.45905661  6.01446272  6.36379688  0.        ]\n",
            " [ 8.06460007 11.02099009 14.18561718  9.05107114  0.        ]\n",
            " [ 2.32607611 16.22672296 15.75924705  0.         14.64476458]]\n"
          ]
        }
      ]
    }
  ]
}